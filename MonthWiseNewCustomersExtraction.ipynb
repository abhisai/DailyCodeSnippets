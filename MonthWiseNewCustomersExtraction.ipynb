{
 "cells": [
  {
   "cell_type": "code",
   "execution_count": 1,
   "id": "2eb0ba44",
   "metadata": {},
   "outputs": [],
   "source": [
    "from pyspark.sql import *\n",
    "from pyspark.sql.types import *\n",
    "from pyspark.sql.functions import *\n",
    "spark = SparkSession.builder.getOrCreate()"
   ]
  },
  {
   "cell_type": "markdown",
   "id": "388b029a",
   "metadata": {},
   "source": [
    "## We have sales data with order_date , customer_id and qty customer ordered.\n",
    "\n",
    "\n",
    "## We need to count the customers added in each month"
   ]
  },
  {
   "cell_type": "code",
   "execution_count": 3,
   "id": "622b4b0f",
   "metadata": {},
   "outputs": [],
   "source": [
    "data = [('2021-01-01', 'C1', '20'),('2021-01-01', 'C2', '30'),('2021-02-01', 'C1', '10'),('2021-02-01', 'C3', '15'),\n",
    "('2021-03-01', 'C5', '19'),('2021-03-01', 'C4', '10'),('2021-04-01', 'C3', '13'),('2021-04-01', 'C5', '15'),\n",
    "('2021-04-01', 'C6', '10')]\n",
    "schema = StructType(\n",
    "[\n",
    "    StructField(\"order_date\",StringType()),\n",
    "    StructField(\"customer_id\",StringType()),\n",
    "    StructField(\"order_qty\",StringType())\n",
    "])"
   ]
  },
  {
   "cell_type": "code",
   "execution_count": 4,
   "id": "c521de31",
   "metadata": {},
   "outputs": [],
   "source": [
    "sales_df = spark.createDataFrame(data,schema)"
   ]
  },
  {
   "cell_type": "code",
   "execution_count": 5,
   "id": "6d6fe35a",
   "metadata": {},
   "outputs": [
    {
     "name": "stdout",
     "output_type": "stream",
     "text": [
      "+----------+-----------+---------+\n",
      "|order_date|customer_id|order_qty|\n",
      "+----------+-----------+---------+\n",
      "|2021-01-01|         C1|       20|\n",
      "|2021-01-01|         C2|       30|\n",
      "|2021-02-01|         C1|       10|\n",
      "|2021-02-01|         C3|       15|\n",
      "|2021-03-01|         C5|       19|\n",
      "|2021-03-01|         C4|       10|\n",
      "|2021-04-01|         C3|       13|\n",
      "|2021-04-01|         C5|       15|\n",
      "|2021-04-01|         C6|       10|\n",
      "+----------+-----------+---------+\n",
      "\n"
     ]
    }
   ],
   "source": [
    "sales_df.show()"
   ]
  },
  {
   "cell_type": "markdown",
   "id": "36a72f0f",
   "metadata": {},
   "source": [
    "## Extracted month only from order_date so that we can play around month during the transformations. We actually can avoid using original order_date and quantity to reduce the data processing"
   ]
  },
  {
   "cell_type": "code",
   "execution_count": 12,
   "id": "d2394c67",
   "metadata": {},
   "outputs": [
    {
     "name": "stdout",
     "output_type": "stream",
     "text": [
      "+----------+-----------+---------+-----+\n",
      "|order_date|customer_id|order_qty|month|\n",
      "+----------+-----------+---------+-----+\n",
      "|2021-01-01|         C1|       20|    1|\n",
      "|2021-01-01|         C2|       30|    1|\n",
      "|2021-02-01|         C1|       10|    2|\n",
      "|2021-02-01|         C3|       15|    2|\n",
      "|2021-03-01|         C5|       19|    3|\n",
      "|2021-03-01|         C4|       10|    3|\n",
      "|2021-04-01|         C3|       13|    4|\n",
      "|2021-04-01|         C5|       15|    4|\n",
      "|2021-04-01|         C6|       10|    4|\n",
      "+----------+-----------+---------+-----+\n",
      "\n"
     ]
    }
   ],
   "source": [
    "sales_modified_df = sales_df.withColumn(\"month\",month(sales_df.order_date))\n",
    "sales_modified_df.show()"
   ]
  },
  {
   "cell_type": "markdown",
   "id": "c98dd3c9",
   "metadata": {},
   "source": [
    "Creating window on customer_id and order by date so that same user will have row_number with order by of month"
   ]
  },
  {
   "cell_type": "code",
   "execution_count": 8,
   "id": "b59ab5e7",
   "metadata": {},
   "outputs": [],
   "source": [
    "customer_window = Window.partitionBy(\"customer_id\").orderBy(\"month\")\n",
    "new_sales_df = sales_modified_df.withColumn(\"row\",row_number().over(customer_window))"
   ]
  },
  {
   "cell_type": "code",
   "execution_count": 9,
   "id": "3ebda61b",
   "metadata": {},
   "outputs": [
    {
     "name": "stdout",
     "output_type": "stream",
     "text": [
      "+----------+-----------+---------+-----+---+\n",
      "|order_date|customer_id|order_qty|month|row|\n",
      "+----------+-----------+---------+-----+---+\n",
      "|2021-04-01|         C6|       10|    4|  1|\n",
      "|2021-02-01|         C3|       15|    2|  1|\n",
      "|2021-04-01|         C3|       13|    4|  2|\n",
      "|2021-03-01|         C4|       10|    3|  1|\n",
      "|2021-03-01|         C5|       19|    3|  1|\n",
      "|2021-04-01|         C5|       15|    4|  2|\n",
      "|2021-01-01|         C1|       20|    1|  1|\n",
      "|2021-02-01|         C1|       10|    2|  2|\n",
      "|2021-01-01|         C2|       30|    1|  1|\n",
      "+----------+-----------+---------+-----+---+\n",
      "\n"
     ]
    }
   ],
   "source": [
    "new_sales_df.show()"
   ]
  },
  {
   "cell_type": "markdown",
   "id": "64413d9b",
   "metadata": {},
   "source": [
    "Extracted count distinct of the customers with grouping of the month to get our desired output ; As we are only interested in new customers then second and future orders we are not interesed so we extracted only first month with row = 1"
   ]
  },
  {
   "cell_type": "code",
   "execution_count": 13,
   "id": "9af28ae8",
   "metadata": {},
   "outputs": [
    {
     "name": "stdout",
     "output_type": "stream",
     "text": [
      "+-----+-------------------+\n",
      "|month|new_customers_added|\n",
      "+-----+-------------------+\n",
      "|    1|                  2|\n",
      "|    3|                  2|\n",
      "|    4|                  1|\n",
      "|    2|                  1|\n",
      "+-----+-------------------+\n",
      "\n"
     ]
    }
   ],
   "source": [
    "new_sales_df.filter(\"row = '1'\").groupBy(\"month\").agg(countDistinct(new_sales_df.customer_id).alias(\"new_customers_added\")).show()"
   ]
  }
 ],
 "metadata": {
  "kernelspec": {
   "display_name": "Pyspark 3",
   "language": "python",
   "name": "pyspark3"
  },
  "language_info": {
   "codemirror_mode": {
    "name": "ipython",
    "version": 3
   },
   "file_extension": ".py",
   "mimetype": "text/x-python",
   "name": "python",
   "nbconvert_exporter": "python",
   "pygments_lexer": "ipython3",
   "version": "3.6.12"
  }
 },
 "nbformat": 4,
 "nbformat_minor": 5
}
