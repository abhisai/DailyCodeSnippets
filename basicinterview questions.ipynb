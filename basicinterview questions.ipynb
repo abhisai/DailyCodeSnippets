{
 "cells": [
  {
   "cell_type": "code",
   "execution_count": 3,
   "id": "71676798",
   "metadata": {},
   "outputs": [],
   "source": [
    "from pyspark.sql import SparkSession\n",
    "spark = SparkSession .\\\n",
    "builder .\\\n",
    "appName(\"Abhi-Basic Interview Question\") .\\\n",
    "getOrCreate()"
   ]
  },
  {
   "cell_type": "code",
   "execution_count": 4,
   "id": "4e93c349",
   "metadata": {},
   "outputs": [
    {
     "data": {
      "text/html": [
       "\n",
       "            <div>\n",
       "                <p><b>SparkSession - in-memory</b></p>\n",
       "                \n",
       "        <div>\n",
       "            <p><b>SparkContext</b></p>\n",
       "\n",
       "            <p><a href=\"http://g01.itversity.com:4040\">Spark UI</a></p>\n",
       "\n",
       "            <dl>\n",
       "              <dt>Version</dt>\n",
       "                <dd><code>v2.4.7</code></dd>\n",
       "              <dt>Master</dt>\n",
       "                <dd><code>yarn</code></dd>\n",
       "              <dt>AppName</dt>\n",
       "                <dd><code>Abhi-12</code></dd>\n",
       "            </dl>\n",
       "        </div>\n",
       "        \n",
       "            </div>\n",
       "        "
      ],
      "text/plain": [
       "<pyspark.sql.session.SparkSession at 0x7f513bc8dfd0>"
      ]
     },
     "execution_count": 4,
     "metadata": {},
     "output_type": "execute_result"
    }
   ],
   "source": [
    "spark"
   ]
  },
  {
   "cell_type": "code",
   "execution_count": 6,
   "id": "3781382f",
   "metadata": {},
   "outputs": [],
   "source": [
    "orders_data = [(1,'Customer1','2023-01-10',100),\n",
    "(2,'Customer2','2023-01-11',150),\n",
    "(3,'Customer1','2023-01-12',80),\n",
    "(4,'Customer3','2023-01-12',200),\n",
    "(5,'Customer2','2023-01-13',50)]"
   ]
  },
  {
   "cell_type": "code",
   "execution_count": 12,
   "id": "5d6789f3",
   "metadata": {},
   "outputs": [],
   "source": [
    "orders_schema = 'order_id int, customer_name string,order_date string,revenue int'"
   ]
  },
  {
   "cell_type": "code",
   "execution_count": 68,
   "id": "33e6fa9b",
   "metadata": {},
   "outputs": [],
   "source": [
    "orders_df = spark.createDataFrame(orders_data,orders_schema)"
   ]
  },
  {
   "cell_type": "code",
   "execution_count": 72,
   "id": "53e60dd8",
   "metadata": {},
   "outputs": [
    {
     "data": {
      "text/html": [
       "<table border='1'>\n",
       "<tr><th>lower(customer_name)</th></tr>\n",
       "<tr><td>customer1</td></tr>\n",
       "<tr><td>customer2</td></tr>\n",
       "<tr><td>customer1</td></tr>\n",
       "<tr><td>customer3</td></tr>\n",
       "<tr><td>customer2</td></tr>\n",
       "</table>\n"
      ],
      "text/plain": [
       "+--------------------+\n",
       "|lower(customer_name)|\n",
       "+--------------------+\n",
       "|           customer1|\n",
       "|           customer2|\n",
       "|           customer1|\n",
       "|           customer3|\n",
       "|           customer2|\n",
       "+--------------------+"
      ]
     },
     "execution_count": 72,
     "metadata": {},
     "output_type": "execute_result"
    }
   ],
   "source": [
    "orders_df.select(lower(orders_df.customer_name))"
   ]
  },
  {
   "cell_type": "code",
   "execution_count": 14,
   "id": "2659e4af",
   "metadata": {},
   "outputs": [
    {
     "name": "stdout",
     "output_type": "stream",
     "text": [
      "+--------+-------------+----------+-------+\n",
      "|order_id|customer_name|order_date|revenue|\n",
      "+--------+-------------+----------+-------+\n",
      "|       1|    Customer1|2023-01-10|    100|\n",
      "|       2|    Customer2|2023-01-11|    150|\n",
      "|       3|    Customer1|2023-01-12|     80|\n",
      "|       4|    Customer3|2023-01-12|    200|\n",
      "|       5|    Customer2|2023-01-13|     50|\n",
      "+--------+-------------+----------+-------+\n",
      "\n"
     ]
    }
   ],
   "source": [
    "orders_df.show()"
   ]
  },
  {
   "cell_type": "code",
   "execution_count": 62,
   "id": "8f655c8c",
   "metadata": {},
   "outputs": [
    {
     "name": "stdout",
     "output_type": "stream",
     "text": [
      "+-------------+\n",
      "|Total_revenue|\n",
      "+-------------+\n",
      "|          580|\n",
      "+-------------+\n",
      "\n"
     ]
    }
   ],
   "source": [
    "## Get Total Revenue\n",
    "from pyspark.sql.functions import *\n",
    "orders_df.agg(sum(\"revenue\").alias(\"Total_revenue\")).show()"
   ]
  },
  {
   "cell_type": "code",
   "execution_count": 63,
   "id": "277f1202",
   "metadata": {},
   "outputs": [
    {
     "name": "stdout",
     "output_type": "stream",
     "text": [
      "+------------+\n",
      "|max(revenue)|\n",
      "+------------+\n",
      "|         200|\n",
      "+------------+\n",
      "\n"
     ]
    }
   ],
   "source": [
    "## Highest Value Order\n",
    "orders_df.agg(max(\"revenue\")).show()"
   ]
  },
  {
   "cell_type": "code",
   "execution_count": 67,
   "id": "f40ff2bd",
   "metadata": {},
   "outputs": [
    {
     "name": "stdout",
     "output_type": "stream",
     "text": [
      "+-------------+-------+\n",
      "|customer_name|revenue|\n",
      "+-------------+-------+\n",
      "|    Customer2|    200|\n",
      "+-------------+-------+\n",
      "\n"
     ]
    }
   ],
   "source": [
    "## Top-Spending Customer.alias(\"total_revenue\").\n",
    "from pyspark.sql.functions import *\n",
    "orders_df.groupBy(\"customer_name\").agg(sum(orders_df.revenue).alias(\"revenue\")).orderBy(\"revenue\",ascending=False).limit(1).show()"
   ]
  },
  {
   "cell_type": "code",
   "execution_count": 31,
   "id": "e880e145",
   "metadata": {},
   "outputs": [
    {
     "name": "stdout",
     "output_type": "stream",
     "text": [
      "+-------------+-----+\n",
      "|customer_name|count|\n",
      "+-------------+-----+\n",
      "|    Customer1|    2|\n",
      "|    Customer3|    1|\n",
      "|    Customer2|    2|\n",
      "+-------------+-----+\n",
      "\n"
     ]
    }
   ],
   "source": [
    "## Order Count per Customer\n",
    "orders_df.groupBy(\"customer_name\").count().show()"
   ]
  },
  {
   "cell_type": "code",
   "execution_count": null,
   "id": "2486ac49",
   "metadata": {},
   "outputs": [],
   "source": []
  }
 ],
 "metadata": {
  "kernelspec": {
   "display_name": "Pyspark 2",
   "language": "python",
   "name": "pyspark2"
  },
  "language_info": {
   "codemirror_mode": {
    "name": "ipython",
    "version": 3
   },
   "file_extension": ".py",
   "mimetype": "text/x-python",
   "name": "python",
   "nbconvert_exporter": "python",
   "pygments_lexer": "ipython3",
   "version": "3.6.12"
  }
 },
 "nbformat": 4,
 "nbformat_minor": 5
}
