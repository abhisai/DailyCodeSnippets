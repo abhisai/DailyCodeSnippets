{
 "cells": [
  {
   "cell_type": "code",
   "execution_count": 1,
   "id": "5858bb59",
   "metadata": {},
   "outputs": [],
   "source": [
    "from pyspark.sql import *\n",
    "from pyspark.sql.functions import * "
   ]
  },
  {
   "cell_type": "code",
   "execution_count": 2,
   "id": "7204c73b",
   "metadata": {},
   "outputs": [],
   "source": [
    "spark = SparkSession.builder.getOrCreate()"
   ]
  },
  {
   "cell_type": "code",
   "execution_count": 3,
   "id": "971508e4",
   "metadata": {},
   "outputs": [
    {
     "data": {
      "text/html": [
       "\n",
       "            <div>\n",
       "                <p><b>SparkSession - in-memory</b></p>\n",
       "                \n",
       "        <div>\n",
       "            <p><b>SparkContext</b></p>\n",
       "\n",
       "            <p><a href=\"http://g01.itversity.com:4041\">Spark UI</a></p>\n",
       "\n",
       "            <dl>\n",
       "              <dt>Version</dt>\n",
       "                <dd><code>v3.1.2</code></dd>\n",
       "              <dt>Master</dt>\n",
       "                <dd><code>yarn</code></dd>\n",
       "              <dt>AppName</dt>\n",
       "                <dd><code>pyspark-shell</code></dd>\n",
       "            </dl>\n",
       "        </div>\n",
       "        \n",
       "            </div>\n",
       "        "
      ],
      "text/plain": [
       "<pyspark.sql.session.SparkSession at 0x7f6b2103df28>"
      ]
     },
     "execution_count": 3,
     "metadata": {},
     "output_type": "execute_result"
    }
   ],
   "source": [
    "spark"
   ]
  },
  {
   "cell_type": "code",
   "execution_count": 4,
   "id": "c118381c",
   "metadata": {},
   "outputs": [],
   "source": [
    "players_df = spark.read.csv(\"/user/itv007180/winning_streak.txt\",header=True,inferSchema=True)"
   ]
  },
  {
   "cell_type": "code",
   "execution_count": 5,
   "id": "bd8044b1",
   "metadata": {},
   "outputs": [
    {
     "name": "stdout",
     "output_type": "stream",
     "text": [
      "+---------+----------+------+\n",
      "|player_id|match_date|result|\n",
      "+---------+----------+------+\n",
      "|        1|2023-10-17|   Win|\n",
      "|        1|2023-10-18|   Win|\n",
      "|        1|2023-10-20|  Draw|\n",
      "|        1|2023-10-23|   Win|\n",
      "|        1|2023-10-25|   Win|\n",
      "|        1|2023-10-31|   Win|\n",
      "|        1|2023-11-01|   Win|\n",
      "|        1|2023-11-02|   Win|\n",
      "|        2|2023-10-20|  Draw|\n",
      "|        2|2023-10-22|  Lost|\n",
      "|        2|2023-10-27|   Win|\n",
      "|        3|2023-11-01|  Lost|\n",
      "+---------+----------+------+\n",
      "\n"
     ]
    }
   ],
   "source": [
    "players_df.show()"
   ]
  },
  {
   "cell_type": "code",
   "execution_count": 6,
   "id": "cd980c0c",
   "metadata": {},
   "outputs": [],
   "source": [
    "mywindow = Window().partitionBy(\"player_id\").orderBy(\"match_date\")\n",
    "\n",
    "modified_df = players_df.withColumn(\"day1_result\",lead(players_df.result,1,'NULL').over(mywindow)) \\\n",
    ".withColumn(\"day2_result\",lead(players_df.result,2,'NULL').over(mywindow))"
   ]
  },
  {
   "cell_type": "code",
   "execution_count": 7,
   "id": "8f6f2258",
   "metadata": {},
   "outputs": [
    {
     "name": "stdout",
     "output_type": "stream",
     "text": [
      "+---------+----------+------+-----------+-----------+\n",
      "|player_id|match_date|result|day1_result|day2_result|\n",
      "+---------+----------+------+-----------+-----------+\n",
      "|        1|2023-10-17|   Win|        Win|       Draw|\n",
      "|        1|2023-10-18|   Win|       Draw|        Win|\n",
      "|        1|2023-10-20|  Draw|        Win|        Win|\n",
      "|        1|2023-10-23|   Win|        Win|        Win|\n",
      "|        1|2023-10-25|   Win|        Win|        Win|\n",
      "|        1|2023-10-31|   Win|        Win|        Win|\n",
      "|        1|2023-11-01|   Win|        Win|       NULL|\n",
      "|        1|2023-11-02|   Win|       NULL|       NULL|\n",
      "|        3|2023-11-01|  Lost|       NULL|       NULL|\n",
      "|        2|2023-10-20|  Draw|       Lost|        Win|\n",
      "|        2|2023-10-22|  Lost|        Win|       NULL|\n",
      "|        2|2023-10-27|   Win|       NULL|       NULL|\n",
      "+---------+----------+------+-----------+-----------+\n",
      "\n"
     ]
    }
   ],
   "source": [
    "modified_df.show()"
   ]
  },
  {
   "cell_type": "code",
   "execution_count": 8,
   "id": "a966287c",
   "metadata": {},
   "outputs": [],
   "source": [
    "from pyspark.sql.functions import expr"
   ]
  },
  {
   "cell_type": "code",
   "execution_count": 9,
   "id": "9855cf8c",
   "metadata": {},
   "outputs": [],
   "source": [
    "##final_df = modified_df.withColumn(\"count1\",expr(\"CASE WHEN result = 'Win' THEN 1\")).show()"
   ]
  },
  {
   "cell_type": "code",
   "execution_count": 17,
   "id": "f4f72a95",
   "metadata": {},
   "outputs": [],
   "source": [
    "final_df = modified_df.filter(\"result = 'Win'\" and ( \"day1_result = 'Win'\" or \"day1_result = 'NULL'\" ) and (\"day2_result = 'Win'\" or \"day2_result = 'NULL'\"))"
   ]
  },
  {
   "cell_type": "code",
   "execution_count": 19,
   "id": "f076e6d4",
   "metadata": {},
   "outputs": [
    {
     "name": "stdout",
     "output_type": "stream",
     "text": [
      "+---------+----------------+\n",
      "|player_id|count(player_id)|\n",
      "+---------+----------------+\n",
      "|        1|               5|\n",
      "|        2|               1|\n",
      "+---------+----------------+\n",
      "\n"
     ]
    }
   ],
   "source": [
    "final_df.groupBy(\"player_id\").agg(count(\"player_id\")).show()"
   ]
  },
  {
   "cell_type": "code",
   "execution_count": 31,
   "id": "560d5479",
   "metadata": {},
   "outputs": [
    {
     "ename": "ParseException",
     "evalue": "\nmismatched input 'result' expecting {<EOF>, '-'}(line 1, pos 10)\n\n== SQL ==\nCASE WHEN result = 'Win' and (day1_result = 'Win' or day1_result = 'NULL') and (day2_result = 'Win' or day2_result = 'NULL') THEN 1\n----------^^^\n",
     "output_type": "error",
     "traceback": [
      "\u001b[0;31m---------------------------------------------------------------------------\u001b[0m",
      "\u001b[0;31mParseException\u001b[0m                            Traceback (most recent call last)",
      "\u001b[0;32m<ipython-input-31-5571a225651a>\u001b[0m in \u001b[0;36m<module>\u001b[0;34m\u001b[0m\n\u001b[0;32m----> 1\u001b[0;31m \u001b[0mmodified_df\u001b[0m\u001b[0;34m.\u001b[0m\u001b[0mwithColumn\u001b[0m\u001b[0;34m(\u001b[0m\u001b[0;34m\"count1\"\u001b[0m\u001b[0;34m,\u001b[0m\u001b[0mexpr\u001b[0m\u001b[0;34m(\u001b[0m\u001b[0;34m\"CASE WHEN result = 'Win' and (day1_result = 'Win' or day1_result = 'NULL') and (day2_result = 'Win' or day2_result = 'NULL') THEN 1\"\u001b[0m\u001b[0;34m)\u001b[0m\u001b[0;34m)\u001b[0m\u001b[0;34m\u001b[0m\u001b[0;34m\u001b[0m\u001b[0m\n\u001b[0m",
      "\u001b[0;32m/opt/spark-3.1.2-bin-hadoop3.2/python/pyspark/sql/functions.py\u001b[0m in \u001b[0;36mexpr\u001b[0;34m(str)\u001b[0m\n\u001b[1;32m   1325\u001b[0m     \"\"\"\n\u001b[1;32m   1326\u001b[0m     \u001b[0msc\u001b[0m \u001b[0;34m=\u001b[0m \u001b[0mSparkContext\u001b[0m\u001b[0;34m.\u001b[0m\u001b[0m_active_spark_context\u001b[0m\u001b[0;34m\u001b[0m\u001b[0;34m\u001b[0m\u001b[0m\n\u001b[0;32m-> 1327\u001b[0;31m     \u001b[0;32mreturn\u001b[0m \u001b[0mColumn\u001b[0m\u001b[0;34m(\u001b[0m\u001b[0msc\u001b[0m\u001b[0;34m.\u001b[0m\u001b[0m_jvm\u001b[0m\u001b[0;34m.\u001b[0m\u001b[0mfunctions\u001b[0m\u001b[0;34m.\u001b[0m\u001b[0mexpr\u001b[0m\u001b[0;34m(\u001b[0m\u001b[0mstr\u001b[0m\u001b[0;34m)\u001b[0m\u001b[0;34m)\u001b[0m\u001b[0;34m\u001b[0m\u001b[0;34m\u001b[0m\u001b[0m\n\u001b[0m\u001b[1;32m   1328\u001b[0m \u001b[0;34m\u001b[0m\u001b[0m\n\u001b[1;32m   1329\u001b[0m \u001b[0;34m\u001b[0m\u001b[0m\n",
      "\u001b[0;32m/opt/spark-3.1.2-bin-hadoop3.2/python/lib/py4j-0.10.9-src.zip/py4j/java_gateway.py\u001b[0m in \u001b[0;36m__call__\u001b[0;34m(self, *args)\u001b[0m\n\u001b[1;32m   1303\u001b[0m         \u001b[0manswer\u001b[0m \u001b[0;34m=\u001b[0m \u001b[0mself\u001b[0m\u001b[0;34m.\u001b[0m\u001b[0mgateway_client\u001b[0m\u001b[0;34m.\u001b[0m\u001b[0msend_command\u001b[0m\u001b[0;34m(\u001b[0m\u001b[0mcommand\u001b[0m\u001b[0;34m)\u001b[0m\u001b[0;34m\u001b[0m\u001b[0;34m\u001b[0m\u001b[0m\n\u001b[1;32m   1304\u001b[0m         return_value = get_return_value(\n\u001b[0;32m-> 1305\u001b[0;31m             answer, self.gateway_client, self.target_id, self.name)\n\u001b[0m\u001b[1;32m   1306\u001b[0m \u001b[0;34m\u001b[0m\u001b[0m\n\u001b[1;32m   1307\u001b[0m         \u001b[0;32mfor\u001b[0m \u001b[0mtemp_arg\u001b[0m \u001b[0;32min\u001b[0m \u001b[0mtemp_args\u001b[0m\u001b[0;34m:\u001b[0m\u001b[0;34m\u001b[0m\u001b[0;34m\u001b[0m\u001b[0m\n",
      "\u001b[0;32m/opt/spark-3.1.2-bin-hadoop3.2/python/pyspark/sql/utils.py\u001b[0m in \u001b[0;36mdeco\u001b[0;34m(*a, **kw)\u001b[0m\n\u001b[1;32m    115\u001b[0m                 \u001b[0;31m# Hide where the exception came from that shows a non-Pythonic\u001b[0m\u001b[0;34m\u001b[0m\u001b[0;34m\u001b[0m\u001b[0;34m\u001b[0m\u001b[0m\n\u001b[1;32m    116\u001b[0m                 \u001b[0;31m# JVM exception message.\u001b[0m\u001b[0;34m\u001b[0m\u001b[0;34m\u001b[0m\u001b[0;34m\u001b[0m\u001b[0m\n\u001b[0;32m--> 117\u001b[0;31m                 \u001b[0;32mraise\u001b[0m \u001b[0mconverted\u001b[0m \u001b[0;32mfrom\u001b[0m \u001b[0;32mNone\u001b[0m\u001b[0;34m\u001b[0m\u001b[0;34m\u001b[0m\u001b[0m\n\u001b[0m\u001b[1;32m    118\u001b[0m             \u001b[0;32melse\u001b[0m\u001b[0;34m:\u001b[0m\u001b[0;34m\u001b[0m\u001b[0;34m\u001b[0m\u001b[0m\n\u001b[1;32m    119\u001b[0m                 \u001b[0;32mraise\u001b[0m\u001b[0;34m\u001b[0m\u001b[0;34m\u001b[0m\u001b[0m\n",
      "\u001b[0;31mParseException\u001b[0m: \nmismatched input 'result' expecting {<EOF>, '-'}(line 1, pos 10)\n\n== SQL ==\nCASE WHEN result = 'Win' and (day1_result = 'Win' or day1_result = 'NULL') and (day2_result = 'Win' or day2_result = 'NULL') THEN 1\n----------^^^\n"
     ]
    }
   ],
   "source": [
    "#modified_df.withColumn(\"count1\",expr(\"CASE WHEN result = 'Win' and (day1_result = 'Win' or day1_result = 'NULL') and (day2_result = 'Win' or day2_result = 'NULL') THEN 1\"))"
   ]
  },
  {
   "cell_type": "code",
   "execution_count": null,
   "id": "f73c7a5f",
   "metadata": {},
   "outputs": [],
   "source": []
  }
 ],
 "metadata": {
  "kernelspec": {
   "display_name": "Pyspark 3",
   "language": "python",
   "name": "pyspark3"
  },
  "language_info": {
   "codemirror_mode": {
    "name": "ipython",
    "version": 3
   },
   "file_extension": ".py",
   "mimetype": "text/x-python",
   "name": "python",
   "nbconvert_exporter": "python",
   "pygments_lexer": "ipython3",
   "version": "3.6.12"
  }
 },
 "nbformat": 4,
 "nbformat_minor": 5
}
