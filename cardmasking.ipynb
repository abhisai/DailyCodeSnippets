{
 "cells": [
  {
   "cell_type": "markdown",
   "id": "bfa9916f",
   "metadata": {},
   "source": [
    "## Python Style"
   ]
  },
  {
   "cell_type": "code",
   "execution_count": 1,
   "id": "36887ee2",
   "metadata": {},
   "outputs": [
    {
     "name": "stdout",
     "output_type": "stream",
     "text": [
      "old_card and its masked card is  1234567890123456 & ************3456\n"
     ]
    }
   ],
   "source": [
    "card = '1234567890123456'\n",
    "masked_card = \"************\" + card[-4:]\n",
    "print(\"old_card and its masked card is \", card ,\"&\", masked_card)"
   ]
  },
  {
   "cell_type": "markdown",
   "id": "c722ff3b",
   "metadata": {},
   "source": [
    "## Pyspark Style"
   ]
  },
  {
   "cell_type": "code",
   "execution_count": 1,
   "id": "5099a3d5",
   "metadata": {},
   "outputs": [],
   "source": [
    "from pyspark.sql import SparkSession\n",
    "from pyspark.sql.functions import substring"
   ]
  },
  {
   "cell_type": "code",
   "execution_count": 3,
   "id": "9c2c053f",
   "metadata": {},
   "outputs": [
    {
     "name": "stdout",
     "output_type": "stream",
     "text": [
      "+-----------------+------------------+\n",
      "|input_card_number|Hidden_card_number|\n",
      "+-----------------+------------------+\n",
      "|1234567891234567 |************4567  |\n",
      "+-----------------+------------------+\n",
      "\n"
     ]
    }
   ],
   "source": [
    "\n",
    "# Create a SparkSession\n",
    "spark = SparkSession.builder.getOrCreate()\n",
    "\n",
    "# Sample input credit card number\n",
    "input_card = \"1234567891234567\"\n",
    "\n",
    "# Hide all characters except the last four digits\n",
    "hidden_card_number = \"************\" + input_card[-4:]\n",
    "\n",
    "# Create a DataFrame with the hidden credit card number\n",
    "data = [(input_card, hidden_card_number)]\n",
    "df = spark.createDataFrame(data, [\"input_card_number\", \"Hidden_card_number\"])\n",
    "\n",
    "# Display the result\n",
    "df.show(truncate=False)"
   ]
  },
  {
   "cell_type": "code",
   "execution_count": null,
   "id": "fa4ab772",
   "metadata": {},
   "outputs": [],
   "source": []
  }
 ],
 "metadata": {
  "kernelspec": {
   "display_name": "Pyspark 3",
   "language": "python",
   "name": "pyspark3"
  },
  "language_info": {
   "codemirror_mode": {
    "name": "ipython",
    "version": 3
   },
   "file_extension": ".py",
   "mimetype": "text/x-python",
   "name": "python",
   "nbconvert_exporter": "python",
   "pygments_lexer": "ipython3",
   "version": "3.6.12"
  }
 },
 "nbformat": 4,
 "nbformat_minor": 5
}
