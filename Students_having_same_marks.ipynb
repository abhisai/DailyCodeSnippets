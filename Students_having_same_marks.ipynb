{
 "cells": [
  {
   "cell_type": "code",
   "execution_count": 1,
   "id": "08a0deb6",
   "metadata": {},
   "outputs": [],
   "source": [
    "from pyspark.sql import SparkSession\n",
    "spark=SparkSession.builder.getOrCreate()"
   ]
  },
  {
   "cell_type": "code",
   "execution_count": 2,
   "id": "d72c2b18",
   "metadata": {},
   "outputs": [],
   "source": [
    "data = [(1,'phy',90),(1,'che',90),(1,'soc',55),(2,'phy',90),(2,'che',98),(2,'phy',90),(3,'phy',40),(3,'soc',40),(4,'phy',90),(5,'phy',60),(5,'che',60)]"
   ]
  },
  {
   "cell_type": "code",
   "execution_count": 3,
   "id": "8c1f8c7c",
   "metadata": {},
   "outputs": [],
   "source": [
    "schema = 'student_id int,subject string,marks int'"
   ]
  },
  {
   "cell_type": "code",
   "execution_count": 4,
   "id": "2cc17ac0",
   "metadata": {},
   "outputs": [],
   "source": [
    "df = spark.createDataFrame(data,schema)"
   ]
  },
  {
   "cell_type": "code",
   "execution_count": 5,
   "id": "1fede106",
   "metadata": {},
   "outputs": [
    {
     "name": "stdout",
     "output_type": "stream",
     "text": [
      "+----------+-------+-----+\n",
      "|student_id|subject|marks|\n",
      "+----------+-------+-----+\n",
      "|         1|    phy|   90|\n",
      "|         1|    che|   90|\n",
      "|         1|    soc|   55|\n",
      "|         2|    phy|   90|\n",
      "|         2|    che|   98|\n",
      "|         2|    phy|   90|\n",
      "|         3|    phy|   40|\n",
      "|         3|    soc|   40|\n",
      "|         4|    phy|   90|\n",
      "|         5|    phy|   60|\n",
      "|         5|    che|   60|\n",
      "+----------+-------+-----+\n",
      "\n"
     ]
    }
   ],
   "source": [
    "df.show()"
   ]
  },
  {
   "cell_type": "code",
   "execution_count": 6,
   "id": "e0c45592",
   "metadata": {},
   "outputs": [],
   "source": [
    "from pyspark.sql.functions import *"
   ]
  },
  {
   "cell_type": "code",
   "execution_count": 7,
   "id": "d192015b",
   "metadata": {},
   "outputs": [],
   "source": [
    "subjects_df = df.filter(\"subject == 'phy' or subject == 'che' \")\n",
    "final_df = subjects_df.groupBy(df.student_id).agg(countDistinct(df.marks).alias(\"unique_marks\"),count(df.student_id).alias(\"total_subjects\"))"
   ]
  },
  {
   "cell_type": "code",
   "execution_count": 8,
   "id": "276d7f8c",
   "metadata": {},
   "outputs": [
    {
     "name": "stdout",
     "output_type": "stream",
     "text": [
      "+----------+------------+--------------+\n",
      "|student_id|unique_marks|total_subjects|\n",
      "+----------+------------+--------------+\n",
      "|         1|           1|             2|\n",
      "|         3|           1|             1|\n",
      "|         5|           1|             2|\n",
      "|         4|           1|             1|\n",
      "|         2|           2|             3|\n",
      "+----------+------------+--------------+\n",
      "\n"
     ]
    }
   ],
   "source": [
    "final_df.show()"
   ]
  },
  {
   "cell_type": "code",
   "execution_count": 9,
   "id": "a0b1ccd9",
   "metadata": {},
   "outputs": [
    {
     "name": "stdout",
     "output_type": "stream",
     "text": [
      "+----------+\n",
      "|student_id|\n",
      "+----------+\n",
      "|         1|\n",
      "|         5|\n",
      "+----------+\n",
      "\n"
     ]
    }
   ],
   "source": [
    "final_df.filter(\"unique_marks = '1' and total_subjects = '2'\").select(\"student_id\").show()"
   ]
  }
 ],
 "metadata": {
  "kernelspec": {
   "display_name": "Pyspark 3",
   "language": "python",
   "name": "pyspark3"
  },
  "language_info": {
   "codemirror_mode": {
    "name": "ipython",
    "version": 3
   },
   "file_extension": ".py",
   "mimetype": "text/x-python",
   "name": "python",
   "nbconvert_exporter": "python",
   "pygments_lexer": "ipython3",
   "version": "3.6.12"
  }
 },
 "nbformat": 4,
 "nbformat_minor": 5
}
