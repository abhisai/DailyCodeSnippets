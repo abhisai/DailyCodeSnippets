{
 "cells": [
  {
   "cell_type": "code",
   "execution_count": 1,
   "id": "15cb8752",
   "metadata": {},
   "outputs": [],
   "source": [
    "from pyspark.sql import SparkSession\n",
    "spark = SparkSession.builder.getOrCreate()"
   ]
  },
  {
   "cell_type": "raw",
   "id": "e641ad03",
   "metadata": {},
   "source": [
    "[itv007180@g01 ~]$ hdfs dfs -cat /user/itv007180/abhisai/dept.txt\n",
    "deptno,deptname\n",
    "1,science\n",
    "2,social\n",
    "3,maths\n",
    "4,english\n",
    "5,hindi[itv007180@g01 ~]$ \n",
    "\n",
    "empid,name,deptno,salary\n",
    "1,'xyz',1,1000\n",
    "2,'abc',1,2000\n",
    "3,'aaa',1,2222\n",
    "4,'ccc',2,3333\n",
    "5,'ada',2,3322\n",
    "6,'cdc',3,3344\n"
   ]
  },
  {
   "cell_type": "code",
   "execution_count": 2,
   "id": "52ac2ebc",
   "metadata": {},
   "outputs": [],
   "source": [
    "emp_df = spark.read.csv(\"/user/itv007180/abhisai/emp.txt\",header=True,inferSchema=True)\n",
    "dept_df = spark.read.csv(\"/user/itv007180/abhisai/dept.txt\",header=True,inferSchema=True)"
   ]
  },
  {
   "cell_type": "code",
   "execution_count": 3,
   "id": "e56d5828",
   "metadata": {},
   "outputs": [
    {
     "name": "stdout",
     "output_type": "stream",
     "text": [
      "+-----+-----+------+------+\n",
      "|empid| name|deptno|salary|\n",
      "+-----+-----+------+------+\n",
      "|    1|'xyz'|     1|  1000|\n",
      "|    2|'abc'|     1|  2000|\n",
      "|    3|'aaa'|     1|  2222|\n",
      "|    4|'ccc'|     2|  3333|\n",
      "|    5|'ada'|     2|  3322|\n",
      "|    6|'cdc'|     3|  3344|\n",
      "+-----+-----+------+------+\n",
      "\n"
     ]
    }
   ],
   "source": [
    "emp_df.show()"
   ]
  },
  {
   "cell_type": "code",
   "execution_count": 4,
   "id": "3f2f090c",
   "metadata": {},
   "outputs": [],
   "source": [
    "normal_join_df = emp_df.join(dept_df,emp_df.deptno==dept_df.deptno,\"inner\")"
   ]
  },
  {
   "cell_type": "code",
   "execution_count": 5,
   "id": "3d10431e",
   "metadata": {},
   "outputs": [
    {
     "name": "stdout",
     "output_type": "stream",
     "text": [
      "+-----+-----+------+------+------+--------+\n",
      "|empid| name|deptno|salary|deptno|deptname|\n",
      "+-----+-----+------+------+------+--------+\n",
      "|    1|'xyz'|     1|  1000|     1| science|\n",
      "|    2|'abc'|     1|  2000|     1| science|\n",
      "|    3|'aaa'|     1|  2222|     1| science|\n",
      "|    4|'ccc'|     2|  3333|     2|  social|\n",
      "|    5|'ada'|     2|  3322|     2|  social|\n",
      "|    6|'cdc'|     3|  3344|     3|   maths|\n",
      "+-----+-----+------+------+------+--------+\n",
      "\n"
     ]
    }
   ],
   "source": [
    "normal_join_df.show()"
   ]
  },
  {
   "cell_type": "code",
   "execution_count": 6,
   "id": "7e385d4c",
   "metadata": {},
   "outputs": [],
   "source": [
    "joined_df = emp_df.join(dept_df,\"deptno\",\"inner\")"
   ]
  },
  {
   "cell_type": "code",
   "execution_count": 7,
   "id": "7368f6ce",
   "metadata": {},
   "outputs": [
    {
     "name": "stdout",
     "output_type": "stream",
     "text": [
      "+------+-----+-----+------+--------+\n",
      "|deptno|empid| name|salary|deptname|\n",
      "+------+-----+-----+------+--------+\n",
      "|     1|    1|'xyz'|  1000| science|\n",
      "|     1|    2|'abc'|  2000| science|\n",
      "|     1|    3|'aaa'|  2222| science|\n",
      "|     2|    4|'ccc'|  3333|  social|\n",
      "|     2|    5|'ada'|  3322|  social|\n",
      "|     3|    6|'cdc'|  3344|   maths|\n",
      "+------+-----+-----+------+--------+\n",
      "\n"
     ]
    }
   ],
   "source": [
    "joined_df.show()"
   ]
  },
  {
   "cell_type": "code",
   "execution_count": null,
   "id": "78939a3e",
   "metadata": {},
   "outputs": [],
   "source": []
  }
 ],
 "metadata": {
  "kernelspec": {
   "display_name": "Pyspark 3",
   "language": "python",
   "name": "pyspark3"
  },
  "language_info": {
   "codemirror_mode": {
    "name": "ipython",
    "version": 3
   },
   "file_extension": ".py",
   "mimetype": "text/x-python",
   "name": "python",
   "nbconvert_exporter": "python",
   "pygments_lexer": "ipython3",
   "version": "3.6.12"
  }
 },
 "nbformat": 4,
 "nbformat_minor": 5
}
