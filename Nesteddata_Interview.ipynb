{
 "cells": [
  {
   "cell_type": "code",
   "execution_count": 22,
   "id": "58288c98",
   "metadata": {},
   "outputs": [],
   "source": [
    "from pyspark.sql import *\n",
    "from pyspark.sql.types import *\n",
    "from pyspark.sql.functions import *"
   ]
  },
  {
   "cell_type": "code",
   "execution_count": 23,
   "id": "1f56ba8e",
   "metadata": {},
   "outputs": [],
   "source": [
    "spark = SparkSession.builder.getOrCreate()"
   ]
  },
  {
   "cell_type": "code",
   "execution_count": 38,
   "id": "feb42b05",
   "metadata": {},
   "outputs": [],
   "source": [
    "data = [(\"John F Kenney\",{\"street\":\"Street1 hopkins\",\"city\":\"New Jersey\"}),(\"Washington\",{\"street\":\"Washington street\",\"city\":\"Texas\"})]"
   ]
  },
  {
   "cell_type": "code",
   "execution_count": 39,
   "id": "1e3c24c1",
   "metadata": {},
   "outputs": [],
   "source": [
    "schema = StructType([\n",
    "    StructField(\"name\",StringType()),\n",
    "    StructField(\"address\",StructType([\n",
    "        StructField(\"street\",StringType()),\n",
    "        StructField(\"city\",StringType())\n",
    "    ]))\n",
    "])"
   ]
  },
  {
   "cell_type": "code",
   "execution_count": 40,
   "id": "d37fa82e",
   "metadata": {},
   "outputs": [],
   "source": [
    "df = spark.createDataFrame(data,schema)"
   ]
  },
  {
   "cell_type": "code",
   "execution_count": 43,
   "id": "29acde60",
   "metadata": {},
   "outputs": [
    {
     "name": "stdout",
     "output_type": "stream",
     "text": [
      "+-------------+--------------------+\n",
      "|         name|             address|\n",
      "+-------------+--------------------+\n",
      "|John F Kenney|{Street1 hopkins,...|\n",
      "|   Washington|{Washington stree...|\n",
      "+-------------+--------------------+\n",
      "\n"
     ]
    }
   ],
   "source": [
    "df.show()"
   ]
  },
  {
   "cell_type": "code",
   "execution_count": 44,
   "id": "8a25a4ea",
   "metadata": {},
   "outputs": [],
   "source": [
    "final_df = df.withColumn(\"street\",df.address.street).withColumn(\"city\",df.address.city).select(\"name\",\"street\",\"city\")"
   ]
  },
  {
   "cell_type": "code",
   "execution_count": 45,
   "id": "987ed4e9",
   "metadata": {},
   "outputs": [
    {
     "name": "stdout",
     "output_type": "stream",
     "text": [
      "+-------------+-----------------+----------+\n",
      "|         name|           street|      city|\n",
      "+-------------+-----------------+----------+\n",
      "|John F Kenney|  Street1 hopkins|New Jersey|\n",
      "|   Washington|Washington street|     Texas|\n",
      "+-------------+-----------------+----------+\n",
      "\n"
     ]
    }
   ],
   "source": [
    "final_df.show()"
   ]
  }
 ],
 "metadata": {
  "kernelspec": {
   "display_name": "Pyspark 3",
   "language": "python",
   "name": "pyspark3"
  },
  "language_info": {
   "codemirror_mode": {
    "name": "ipython",
    "version": 3
   },
   "file_extension": ".py",
   "mimetype": "text/x-python",
   "name": "python",
   "nbconvert_exporter": "python",
   "pygments_lexer": "ipython3",
   "version": "3.6.12"
  }
 },
 "nbformat": 4,
 "nbformat_minor": 5
}
