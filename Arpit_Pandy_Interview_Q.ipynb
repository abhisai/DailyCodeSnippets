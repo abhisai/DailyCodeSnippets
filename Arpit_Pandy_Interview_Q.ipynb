{
 "cells": [
  {
   "cell_type": "code",
   "execution_count": 1,
   "id": "83bb1834",
   "metadata": {},
   "outputs": [],
   "source": [
    "from pyspark.sql import SparkSession\n",
    "spark = SparkSession.builder.getOrCreate()"
   ]
  },
  {
   "cell_type": "code",
   "execution_count": null,
   "id": "34d0ab01",
   "metadata": {},
   "outputs": [],
   "source": [
    "## #create one dataframe\n",
    "## convert date into date format\n",
    "## find the difference between the sales happening for TV and laptop on the same day"
   ]
  },
  {
   "cell_type": "code",
   "execution_count": 13,
   "id": "709bb8ff",
   "metadata": {},
   "outputs": [],
   "source": [
    "from pyspark.sql.types import *\n",
    "from pyspark.sql.functions import *"
   ]
  },
  {
   "cell_type": "code",
   "execution_count": 14,
   "id": "4959c2ee",
   "metadata": {},
   "outputs": [],
   "source": [
    "data = [\n",
    "    (\"2023-09-01\", \"TV\", 100),\n",
    "    (\"2023-09-01\", \"Laptop\", 80),\n",
    "    (\"2023-09-02\", \"TV\", 150),\n",
    "    (\"2023-09-02\", \"Laptop\", 75),\n",
    "    (\"2023-09-03\", \"TV\", 200),\n",
    "    (\"2023-09-03\", \"Laptop\", 0),\n",
    "    (\"2023-09-04\", \"TV\", 98),\n",
    "    (\"2023-09-04\", \"Laptop\", 100)\n",
    "]"
   ]
  },
  {
   "cell_type": "code",
   "execution_count": 15,
   "id": "380d7132",
   "metadata": {},
   "outputs": [],
   "source": [
    "schema = StructType([\n",
    "    StructField(\"sales_date\",StringType()),\n",
    "    StructField(\"product_name\",StringType()),\n",
    "    StructField(\"sales\",IntegerType())\n",
    "])"
   ]
  },
  {
   "cell_type": "code",
   "execution_count": 16,
   "id": "a49aba42",
   "metadata": {},
   "outputs": [],
   "source": [
    "df = spark.createDataFrame(data,schema)"
   ]
  },
  {
   "cell_type": "code",
   "execution_count": 17,
   "id": "22ab3c26",
   "metadata": {},
   "outputs": [
    {
     "name": "stdout",
     "output_type": "stream",
     "text": [
      "+----------+------------+-----+\n",
      "|sales_date|product_name|sales|\n",
      "+----------+------------+-----+\n",
      "|2023-09-01|          TV|  100|\n",
      "|2023-09-01|      Laptop|   80|\n",
      "|2023-09-02|          TV|  150|\n",
      "|2023-09-02|      Laptop|   75|\n",
      "|2023-09-03|          TV|  200|\n",
      "|2023-09-03|      Laptop|    0|\n",
      "|2023-09-04|          TV|   98|\n",
      "|2023-09-04|      Laptop|  100|\n",
      "+----------+------------+-----+\n",
      "\n"
     ]
    }
   ],
   "source": [
    "df.show()"
   ]
  },
  {
   "cell_type": "code",
   "execution_count": 18,
   "id": "eb32885b",
   "metadata": {},
   "outputs": [
    {
     "name": "stdout",
     "output_type": "stream",
     "text": [
      "root\n",
      " |-- sales_date: string (nullable = true)\n",
      " |-- product_name: string (nullable = true)\n",
      " |-- sales: integer (nullable = true)\n",
      "\n"
     ]
    }
   ],
   "source": [
    "df.printSchema()"
   ]
  },
  {
   "cell_type": "code",
   "execution_count": 19,
   "id": "62c28c4e",
   "metadata": {},
   "outputs": [],
   "source": [
    "## Now convert sales_Date to DATE format from string "
   ]
  },
  {
   "cell_type": "code",
   "execution_count": 36,
   "id": "873c40f0",
   "metadata": {},
   "outputs": [],
   "source": [
    "changed_df = df.withColumn(\"new_sales_date\",to_date(\"sales_date\",'yyyy-MM-dd')).select(\"product_name\",\"sales\",\"new_sales_date\")"
   ]
  },
  {
   "cell_type": "code",
   "execution_count": 37,
   "id": "2f9c984e",
   "metadata": {},
   "outputs": [
    {
     "name": "stdout",
     "output_type": "stream",
     "text": [
      "root\n",
      " |-- product_name: string (nullable = true)\n",
      " |-- sales: integer (nullable = true)\n",
      " |-- new_sales_date: date (nullable = true)\n",
      "\n"
     ]
    }
   ],
   "source": [
    "changed_df.printSchema()"
   ]
  },
  {
   "cell_type": "code",
   "execution_count": 38,
   "id": "9d6deefe",
   "metadata": {},
   "outputs": [
    {
     "name": "stdout",
     "output_type": "stream",
     "text": [
      "+------------+-----+--------------+\n",
      "|product_name|sales|new_sales_date|\n",
      "+------------+-----+--------------+\n",
      "|          TV|  100|    2023-09-01|\n",
      "|      Laptop|   80|    2023-09-01|\n",
      "|          TV|  150|    2023-09-02|\n",
      "|      Laptop|   75|    2023-09-02|\n",
      "|          TV|  200|    2023-09-03|\n",
      "|      Laptop|    0|    2023-09-03|\n",
      "|          TV|   98|    2023-09-04|\n",
      "|      Laptop|  100|    2023-09-04|\n",
      "+------------+-----+--------------+\n",
      "\n"
     ]
    }
   ],
   "source": [
    "changed_df.show()"
   ]
  },
  {
   "cell_type": "code",
   "execution_count": 43,
   "id": "ed25311c",
   "metadata": {},
   "outputs": [],
   "source": [
    "new_df = changed_df.groupBy(\"new_sales_date\",\"product_name\").agg(sum(\"sales\").alias(\"sum_of_sales\")).orderBy(\"new_sales_date\")"
   ]
  },
  {
   "cell_type": "code",
   "execution_count": 44,
   "id": "56b28d43",
   "metadata": {},
   "outputs": [
    {
     "name": "stdout",
     "output_type": "stream",
     "text": [
      "+--------------+------------+------------+\n",
      "|new_sales_date|product_name|sum_of_sales|\n",
      "+--------------+------------+------------+\n",
      "|    2023-09-01|          TV|         100|\n",
      "|    2023-09-01|      Laptop|          80|\n",
      "|    2023-09-02|          TV|         150|\n",
      "|    2023-09-02|      Laptop|          75|\n",
      "|    2023-09-03|      Laptop|           0|\n",
      "|    2023-09-03|          TV|         200|\n",
      "|    2023-09-04|      Laptop|         100|\n",
      "|    2023-09-04|          TV|          98|\n",
      "+--------------+------------+------------+\n",
      "\n"
     ]
    }
   ],
   "source": [
    "new_df.show()"
   ]
  },
  {
   "cell_type": "code",
   "execution_count": 45,
   "id": "1f4d4d64",
   "metadata": {},
   "outputs": [],
   "source": [
    "new_df.createOrReplaceTempView(\"orders_table_1113\")"
   ]
  },
  {
   "cell_type": "code",
   "execution_count": 47,
   "id": "213c8938",
   "metadata": {},
   "outputs": [
    {
     "name": "stdout",
     "output_type": "stream",
     "text": [
      "+--------------+------------+------------+\n",
      "|new_sales_date|product_name|sum_of_sales|\n",
      "+--------------+------------+------------+\n",
      "|    2023-09-01|          TV|         100|\n",
      "|    2023-09-01|      Laptop|          80|\n",
      "|    2023-09-02|      Laptop|          75|\n",
      "|    2023-09-02|          TV|         150|\n",
      "|    2023-09-03|          TV|         200|\n",
      "|    2023-09-03|      Laptop|           0|\n",
      "|    2023-09-04|      Laptop|         100|\n",
      "|    2023-09-04|          TV|          98|\n",
      "+--------------+------------+------------+\n",
      "\n"
     ]
    }
   ],
   "source": [
    "spark.sql(\"select * from orders_table_1113\").show()"
   ]
  },
  {
   "cell_type": "code",
   "execution_count": 51,
   "id": "958fb573",
   "metadata": {},
   "outputs": [
    {
     "data": {
      "text/html": [
       "<table border='1'>\n",
       "<tr><th>new_sales_date</th><th>diff</th></tr>\n",
       "<tr><td>2023-09-01</td><td>20</td></tr>\n",
       "<tr><td>2023-09-02</td><td>75</td></tr>\n",
       "<tr><td>2023-09-03</td><td>200</td></tr>\n",
       "<tr><td>2023-09-04</td><td>-2</td></tr>\n",
       "</table>\n"
      ],
      "text/plain": [
       "+--------------+----+\n",
       "|new_sales_date|diff|\n",
       "+--------------+----+\n",
       "|    2023-09-01|  20|\n",
       "|    2023-09-02|  75|\n",
       "|    2023-09-03| 200|\n",
       "|    2023-09-04|  -2|\n",
       "+--------------+----+"
      ]
     },
     "execution_count": 51,
     "metadata": {},
     "output_type": "execute_result"
    }
   ],
   "source": [
    "spark.sql(\"select new_sales_date , sum(case when product_name = 'TV' then sum_of_sales end) - sum(case when product_name = 'Laptop' then sum_of_sales end) as diff from orders_table_1113 group by new_sales_date order by new_sales_date \")"
   ]
  },
  {
   "cell_type": "code",
   "execution_count": null,
   "id": "3ece86a0",
   "metadata": {},
   "outputs": [],
   "source": []
  },
  {
   "cell_type": "code",
   "execution_count": null,
   "id": "3d0ce5cb",
   "metadata": {},
   "outputs": [],
   "source": []
  }
 ],
 "metadata": {
  "kernelspec": {
   "display_name": "Pyspark 3",
   "language": "python",
   "name": "pyspark3"
  },
  "language_info": {
   "codemirror_mode": {
    "name": "ipython",
    "version": 3
   },
   "file_extension": ".py",
   "mimetype": "text/x-python",
   "name": "python",
   "nbconvert_exporter": "python",
   "pygments_lexer": "ipython3",
   "version": "3.6.12"
  }
 },
 "nbformat": 4,
 "nbformat_minor": 5
}
