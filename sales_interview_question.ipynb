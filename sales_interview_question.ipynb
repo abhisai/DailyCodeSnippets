{
 "cells": [
  {
   "cell_type": "code",
   "execution_count": 1,
   "id": "03479554",
   "metadata": {},
   "outputs": [],
   "source": [
    "from pyspark.sql import *\n",
    "spark = SparkSession.builder.getOrCreate()"
   ]
  },
  {
   "cell_type": "code",
   "execution_count": 2,
   "id": "7417c4be",
   "metadata": {},
   "outputs": [],
   "source": [
    "## https://www.linkedin.com/feed/update/urn:li:activity:7124450661517131776?updateEntityUrn=urn%3Ali%3Afs_feedUpdate%3A%28V2%2Curn%3Ali%3Aactivity%3A7124450661517131776%29"
   ]
  },
  {
   "cell_type": "code",
   "execution_count": 3,
   "id": "ee02d2e1",
   "metadata": {},
   "outputs": [
    {
     "data": {
      "text/html": [
       "\n",
       "            <div>\n",
       "                <p><b>SparkSession - in-memory</b></p>\n",
       "                \n",
       "        <div>\n",
       "            <p><b>SparkContext</b></p>\n",
       "\n",
       "            <p><a href=\"http://g01.itversity.com:4043\">Spark UI</a></p>\n",
       "\n",
       "            <dl>\n",
       "              <dt>Version</dt>\n",
       "                <dd><code>v2.4.7</code></dd>\n",
       "              <dt>Master</dt>\n",
       "                <dd><code>yarn</code></dd>\n",
       "              <dt>AppName</dt>\n",
       "                <dd><code>pyspark-shell</code></dd>\n",
       "            </dl>\n",
       "        </div>\n",
       "        \n",
       "            </div>\n",
       "        "
      ],
      "text/plain": [
       "<pyspark.sql.session.SparkSession at 0x7fdfdccae9e8>"
      ]
     },
     "execution_count": 3,
     "metadata": {},
     "output_type": "execute_result"
    }
   ],
   "source": [
    "spark"
   ]
  },
  {
   "cell_type": "code",
   "execution_count": 4,
   "id": "b0f3fa27",
   "metadata": {},
   "outputs": [],
   "source": [
    "from pyspark.sql.functions import *"
   ]
  },
  {
   "cell_type": "code",
   "execution_count": 5,
   "id": "e4d092b6",
   "metadata": {},
   "outputs": [],
   "source": [
    "sales_df = spark.read.format(\"csv\").option(\"header\",\"true\").load(\"/user/itv007180/sales.txt\")"
   ]
  },
  {
   "cell_type": "code",
   "execution_count": 6,
   "id": "45ee54f1",
   "metadata": {},
   "outputs": [],
   "source": [
    "updated_sales_df = sales_df.select(col('customer_id').cast('int'),col('order_id').cast('int'),col('order_date').cast('string'),col('total_order_value').cast('int'))"
   ]
  },
  {
   "cell_type": "code",
   "execution_count": 7,
   "id": "4ce9b14d",
   "metadata": {},
   "outputs": [
    {
     "name": "stdout",
     "output_type": "stream",
     "text": [
      "root\n",
      " |-- customer_id: integer (nullable = true)\n",
      " |-- order_id: integer (nullable = true)\n",
      " |-- order_date: string (nullable = true)\n",
      " |-- total_order_value: integer (nullable = true)\n",
      "\n"
     ]
    }
   ],
   "source": [
    "updated_sales_df.printSchema()"
   ]
  },
  {
   "cell_type": "code",
   "execution_count": 8,
   "id": "cabf91d9",
   "metadata": {},
   "outputs": [
    {
     "name": "stdout",
     "output_type": "stream",
     "text": [
      "+-----------+-----------+\n",
      "|customer_id|total_value|\n",
      "+-----------+-----------+\n",
      "|          1|        630|\n",
      "|          3|        590|\n",
      "|          4|        330|\n",
      "|          2|        765|\n",
      "+-----------+-----------+\n",
      "\n"
     ]
    }
   ],
   "source": [
    "customer_lifetime_value = updated_sales_df.groupBy(\"customer_id\").sum(\"total_order_value\").withColumnRenamed(\"sum(total_order_value)\",\"total_value\").show()"
   ]
  },
  {
   "cell_type": "code",
   "execution_count": 9,
   "id": "d3b9bf05",
   "metadata": {},
   "outputs": [
    {
     "name": "stdout",
     "output_type": "stream",
     "text": [
      "+-----------+----------------------+\n",
      "|customer_id|avg(total_order_value)|\n",
      "+-----------+----------------------+\n",
      "|          1|                  90.0|\n",
      "|          3|    196.66666666666666|\n",
      "|          4|                 110.0|\n",
      "|          2|    109.28571428571429|\n",
      "+-----------+----------------------+\n",
      "\n"
     ]
    }
   ],
   "source": [
    "customer_avg_value = updated_sales_df.groupBy(\"customer_id\").agg(avg(\"total_order_value\")).show()"
   ]
  },
  {
   "cell_type": "code",
   "execution_count": 10,
   "id": "63251c82",
   "metadata": {},
   "outputs": [
    {
     "name": "stdout",
     "output_type": "stream",
     "text": [
      "+-----------+--------+----------+-----------------+\n",
      "|customer_id|order_id|order_date|total_order_value|\n",
      "+-----------+--------+----------+-----------------+\n",
      "|          1|     101|2023-01-05|              100|\n",
      "|          2|     102|2023-02-10|              150|\n",
      "+-----------+--------+----------+-----------------+\n",
      "only showing top 2 rows\n",
      "\n"
     ]
    }
   ],
   "source": [
    "updated_sales_df.show(2)"
   ]
  },
  {
   "cell_type": "code",
   "execution_count": 11,
   "id": "f8d89a25",
   "metadata": {},
   "outputs": [],
   "source": [
    "from pyspark.sql.window import Window"
   ]
  },
  {
   "cell_type": "code",
   "execution_count": 12,
   "id": "0ce26782",
   "metadata": {},
   "outputs": [],
   "source": [
    "mywindow = Window.partitionBy(\"customer_id\").orderBy(\"order_date\")"
   ]
  },
  {
   "cell_type": "code",
   "execution_count": 13,
   "id": "4a519b10",
   "metadata": {},
   "outputs": [],
   "source": [
    "windowed_df = updated_sales_df.withColumn(\"lead_date\",lead(\"order_date\").over(mywindow))"
   ]
  },
  {
   "cell_type": "code",
   "execution_count": 14,
   "id": "3a78c3a7",
   "metadata": {},
   "outputs": [],
   "source": [
    "dated_df = windowed_df.withColumn(\"date_diff\",datediff(\"lead_date\",\"order_date\"))"
   ]
  },
  {
   "cell_type": "code",
   "execution_count": 15,
   "id": "4f632875",
   "metadata": {},
   "outputs": [
    {
     "name": "stdout",
     "output_type": "stream",
     "text": [
      "+-----------+-----------------+\n",
      "|customer_id|             diff|\n",
      "+-----------+-----------------+\n",
      "|          1|90.33333333333333|\n",
      "|          3|            183.0|\n",
      "|          4|            183.0|\n",
      "|          2|91.16666666666667|\n",
      "+-----------+-----------------+\n",
      "\n"
     ]
    }
   ],
   "source": [
    "purchase_freq = dated_df.groupBy(\"customer_id\").agg(avg(\"date_diff\")).withColumnRenamed(\"avg(date_diff)\",\"diff\").show()"
   ]
  },
  {
   "cell_type": "code",
   "execution_count": null,
   "id": "fe599f63",
   "metadata": {},
   "outputs": [],
   "source": []
  }
 ],
 "metadata": {
  "kernelspec": {
   "display_name": "Pyspark 2",
   "language": "python",
   "name": "pyspark2"
  },
  "language_info": {
   "codemirror_mode": {
    "name": "ipython",
    "version": 3
   },
   "file_extension": ".py",
   "mimetype": "text/x-python",
   "name": "python",
   "nbconvert_exporter": "python",
   "pygments_lexer": "ipython3",
   "version": "3.6.12"
  }
 },
 "nbformat": 4,
 "nbformat_minor": 5
}
