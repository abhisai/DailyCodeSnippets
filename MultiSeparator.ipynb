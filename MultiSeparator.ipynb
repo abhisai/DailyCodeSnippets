{
 "cells": [
  {
   "cell_type": "code",
   "execution_count": 1,
   "id": "25c87f05",
   "metadata": {},
   "outputs": [],
   "source": [
    "from pyspark.sql import * "
   ]
  },
  {
   "cell_type": "code",
   "execution_count": 2,
   "id": "5c4edc1c",
   "metadata": {},
   "outputs": [],
   "source": [
    "spark = SparkSession.builder.getOrCreate()"
   ]
  },
  {
   "cell_type": "raw",
   "id": "e3d93ab2",
   "metadata": {},
   "source": [
    "empid@|empname@|salary\n",
    "1@|abhisai@|1000\n",
    "2@|emp1@|10030\n",
    "3@|sai@|2200"
   ]
  },
  {
   "cell_type": "code",
   "execution_count": 3,
   "id": "986f2be6",
   "metadata": {},
   "outputs": [],
   "source": [
    "df = spark.read.format(\"csv\").option(\"header\",\"true\").option(\"sep\",\"@|\").load(\"/user/itv007180/text1.txt\")"
   ]
  },
  {
   "cell_type": "code",
   "execution_count": 4,
   "id": "2dce3dee",
   "metadata": {},
   "outputs": [
    {
     "name": "stdout",
     "output_type": "stream",
     "text": [
      "+-----+-------+------+\n",
      "|empid|empname|salary|\n",
      "+-----+-------+------+\n",
      "|    1|abhisai|  1000|\n",
      "|    2|   emp1| 10030|\n",
      "|    3|    sai|  2200|\n",
      "+-----+-------+------+\n",
      "\n"
     ]
    }
   ],
   "source": [
    "df.show()"
   ]
  },
  {
   "cell_type": "code",
   "execution_count": null,
   "id": "81a8467b",
   "metadata": {},
   "outputs": [],
   "source": []
  }
 ],
 "metadata": {
  "kernelspec": {
   "display_name": "Pyspark 3",
   "language": "python",
   "name": "pyspark3"
  },
  "language_info": {
   "codemirror_mode": {
    "name": "ipython",
    "version": 3
   },
   "file_extension": ".py",
   "mimetype": "text/x-python",
   "name": "python",
   "nbconvert_exporter": "python",
   "pygments_lexer": "ipython3",
   "version": "3.6.12"
  }
 },
 "nbformat": 4,
 "nbformat_minor": 5
}
